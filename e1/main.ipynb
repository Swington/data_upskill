{
 "cells": [
  {
   "cell_type": "code",
   "execution_count": 9,
   "metadata": {
    "pycharm": {
     "is_executing": false
    }
   },
   "outputs": [
    {
     "data": {
      "text/html": [
       "        <script type=\"text/javascript\">\n",
       "        window.PlotlyConfig = {MathJaxConfig: 'local'};\n",
       "        if (window.MathJax) {MathJax.Hub.Config({SVG: {font: \"STIX-Web\"}});}\n",
       "        if (typeof require !== 'undefined') {\n",
       "        require.undef(\"plotly\");\n",
       "        requirejs.config({\n",
       "            paths: {\n",
       "                'plotly': ['https://cdn.plot.ly/plotly-latest.min']\n",
       "            }\n",
       "        });\n",
       "        require(['plotly'], function(Plotly) {\n",
       "            window._Plotly = Plotly;\n",
       "        });\n",
       "        }\n",
       "        </script>\n",
       "        "
      ]
     },
     "metadata": {},
     "output_type": "display_data"
    },
    {
     "name": "stdout",
     "output_type": "stream",
     "text": [
      "3.7.6 (default, Dec 30 2019, 13:29:21) \n",
      "[Clang 11.0.0 (clang-1100.0.33.16)]\n",
      "['/Users/tswiton/dev/data_upskill/e1', '/Users/tswiton/dev/data_upskill', '/usr/local/Cellar/python/3.7.6/Frameworks/Python.framework/Versions/3.7/lib/python37.zip', '/usr/local/Cellar/python/3.7.6/Frameworks/Python.framework/Versions/3.7/lib/python3.7', '/usr/local/Cellar/python/3.7.6/Frameworks/Python.framework/Versions/3.7/lib/python3.7/lib-dynload', '', '/Users/tswiton/.virtualenvs/data_upskill/lib/python3.7/site-packages', '/Users/tswiton/.virtualenvs/data_upskill/lib/python3.7/site-packages/setuptools-40.8.0-py3.7.egg', '/Users/tswiton/.virtualenvs/data_upskill/lib/python3.7/site-packages/pip-19.0.3-py3.7.egg', '/Users/tswiton/.virtualenvs/data_upskill/lib/python3.7/site-packages/IPython/extensions', '/Users/tswiton/.ipython']\n"
     ]
    }
   ],
   "source": [
    "# importing necesary libraries\n",
    "\n",
    " \n",
    "\n",
    "%matplotlib inline\n",
    "\n",
    "import pandas as pd\n",
    "\n",
    "import numpy as np\n",
    "\n",
    "import glob\n",
    "\n",
    "import os\n",
    "\n",
    "import datetime\n",
    "\n",
    "import statsmodels\n",
    "\n",
    "from matplotlib import pyplot as plt\n",
    "\n",
    "import seaborn as sns\n",
    "\n",
    "import sys\n",
    "\n",
    "import plotly.express as px\n",
    "\n",
    "import warnings\n",
    "\n",
    "import plotly\n",
    "\n",
    "from plotly.subplots import make_subplots\n",
    "\n",
    "import plotly.graph_objects as go\n",
    "\n",
    "warnings.filterwarnings(\"ignore\")\n",
    "\n",
    "plotly.offline.init_notebook_mode(connected=True)\n",
    "\n",
    " \n",
    "\n",
    "from IPython.display import display\n",
    "\n",
    "from IPython.core.interactiveshell import InteractiveShell\n",
    "\n",
    "InteractiveShell.ast_node_interactivity = \"all\"\n",
    "\n",
    " \n",
    "\n",
    "import sys\n",
    "\n",
    "print(sys.version)\n",
    "\n",
    "print(sys.path)\n",
    "\n"
   ]
  },
  {
   "cell_type": "code",
   "execution_count": 10,
   "metadata": {
    "scrolled": true
   },
   "outputs": [
    {
     "name": "stdout",
     "output_type": "stream",
     "text": [
      "--2020-01-11 23:24:30--  https://archive.ics.uci.edu/ml/machine-learning-databases/blood-transfusion/transfusion.data\n",
      "Resolving archive.ics.uci.edu (archive.ics.uci.edu)... 128.195.10.252\n",
      "Connecting to archive.ics.uci.edu (archive.ics.uci.edu)|128.195.10.252|:443... connected.\n",
      "HTTP request sent, awaiting response... 200 OK\n",
      "Length: 12843 (13K) [application/x-httpd-php]\n",
      "Saving to: ‘transfusion.data.1’\n",
      "\n",
      "transfusion.data.1  100%[===================>]  12.54K  --.-KB/s    in 0.001s  \n",
      "\n",
      "2020-01-11 23:24:31 (15.9 MB/s) - ‘transfusion.data.1’ saved [12843/12843]\n",
      "\n"
     ]
    }
   ],
   "source": [
    "!wget https://archive.ics.uci.edu/ml/machine-learning-databases/blood-transfusion/transfusion.data"
   ]
  },
  {
   "cell_type": "code",
   "execution_count": 11,
   "metadata": {
    "pycharm": {
     "is_executing": false
    },
    "scrolled": true
   },
   "outputs": [
    {
     "data": {
      "text/html": [
       "<div>\n",
       "<style scoped>\n",
       "    .dataframe tbody tr th:only-of-type {\n",
       "        vertical-align: middle;\n",
       "    }\n",
       "\n",
       "    .dataframe tbody tr th {\n",
       "        vertical-align: top;\n",
       "    }\n",
       "\n",
       "    .dataframe thead th {\n",
       "        text-align: right;\n",
       "    }\n",
       "</style>\n",
       "<table border=\"1\" class=\"dataframe\">\n",
       "  <thead>\n",
       "    <tr style=\"text-align: right;\">\n",
       "      <th></th>\n",
       "      <th>Recency</th>\n",
       "      <th>Frequency</th>\n",
       "      <th>Amount</th>\n",
       "      <th>Times</th>\n",
       "      <th>Donation</th>\n",
       "    </tr>\n",
       "  </thead>\n",
       "  <tbody>\n",
       "    <tr>\n",
       "      <th>0</th>\n",
       "      <td>2</td>\n",
       "      <td>50</td>\n",
       "      <td>12500</td>\n",
       "      <td>98</td>\n",
       "      <td>1</td>\n",
       "    </tr>\n",
       "    <tr>\n",
       "      <th>1</th>\n",
       "      <td>0</td>\n",
       "      <td>13</td>\n",
       "      <td>3250</td>\n",
       "      <td>28</td>\n",
       "      <td>1</td>\n",
       "    </tr>\n",
       "    <tr>\n",
       "      <th>2</th>\n",
       "      <td>1</td>\n",
       "      <td>16</td>\n",
       "      <td>4000</td>\n",
       "      <td>35</td>\n",
       "      <td>1</td>\n",
       "    </tr>\n",
       "    <tr>\n",
       "      <th>3</th>\n",
       "      <td>2</td>\n",
       "      <td>20</td>\n",
       "      <td>5000</td>\n",
       "      <td>45</td>\n",
       "      <td>1</td>\n",
       "    </tr>\n",
       "    <tr>\n",
       "      <th>4</th>\n",
       "      <td>1</td>\n",
       "      <td>24</td>\n",
       "      <td>6000</td>\n",
       "      <td>77</td>\n",
       "      <td>0</td>\n",
       "    </tr>\n",
       "  </tbody>\n",
       "</table>\n",
       "</div>"
      ],
      "text/plain": [
       "   Recency  Frequency  Amount  Times  Donation\n",
       "0        2         50   12500     98         1\n",
       "1        0         13    3250     28         1\n",
       "2        1         16    4000     35         1\n",
       "3        2         20    5000     45         1\n",
       "4        1         24    6000     77         0"
      ]
     },
     "execution_count": 11,
     "metadata": {},
     "output_type": "execute_result"
    }
   ],
   "source": [
    "column_names = [\"Recency\", \"Frequency\", \"Amount\", \"Times\", \"Donation\"]\n",
    "data = pd.read_csv(\"transfusion.data\", names=column_names, header=0)\n",
    "data.head()"
   ]
  },
  {
   "cell_type": "code",
   "execution_count": 16,
   "metadata": {},
   "outputs": [
    {
     "data": {
      "text/plain": [
       "<matplotlib.axes._subplots.AxesSubplot at 0x1247fad50>"
      ]
     },
     "execution_count": 16,
     "metadata": {},
     "output_type": "execute_result"
    },
    {
     "data": {
      "text/html": [
       "<style  type=\"text/css\" >\n",
       "    #T_7c68bf56_34c1_11ea_8f1e_a683e7938601row0_col0 {\n",
       "            background-color:  #b40426;\n",
       "            color:  #f1f1f1;\n",
       "        }    #T_7c68bf56_34c1_11ea_8f1e_a683e7938601row0_col1 {\n",
       "            background-color:  #3b4cc0;\n",
       "            color:  #f1f1f1;\n",
       "        }    #T_7c68bf56_34c1_11ea_8f1e_a683e7938601row0_col2 {\n",
       "            background-color:  #3b4cc0;\n",
       "            color:  #f1f1f1;\n",
       "        }    #T_7c68bf56_34c1_11ea_8f1e_a683e7938601row0_col3 {\n",
       "            background-color:  #779af7;\n",
       "            color:  #000000;\n",
       "        }    #T_7c68bf56_34c1_11ea_8f1e_a683e7938601row0_col4 {\n",
       "            background-color:  #3b4cc0;\n",
       "            color:  #f1f1f1;\n",
       "        }    #T_7c68bf56_34c1_11ea_8f1e_a683e7938601row1_col0 {\n",
       "            background-color:  #516ddb;\n",
       "            color:  #000000;\n",
       "        }    #T_7c68bf56_34c1_11ea_8f1e_a683e7938601row1_col1 {\n",
       "            background-color:  #b40426;\n",
       "            color:  #f1f1f1;\n",
       "        }    #T_7c68bf56_34c1_11ea_8f1e_a683e7938601row1_col2 {\n",
       "            background-color:  #b40426;\n",
       "            color:  #f1f1f1;\n",
       "        }    #T_7c68bf56_34c1_11ea_8f1e_a683e7938601row1_col3 {\n",
       "            background-color:  #f6bea4;\n",
       "            color:  #000000;\n",
       "        }    #T_7c68bf56_34c1_11ea_8f1e_a683e7938601row1_col4 {\n",
       "            background-color:  #bcd2f7;\n",
       "            color:  #000000;\n",
       "        }    #T_7c68bf56_34c1_11ea_8f1e_a683e7938601row2_col0 {\n",
       "            background-color:  #516ddb;\n",
       "            color:  #000000;\n",
       "        }    #T_7c68bf56_34c1_11ea_8f1e_a683e7938601row2_col1 {\n",
       "            background-color:  #b40426;\n",
       "            color:  #f1f1f1;\n",
       "        }    #T_7c68bf56_34c1_11ea_8f1e_a683e7938601row2_col2 {\n",
       "            background-color:  #b40426;\n",
       "            color:  #f1f1f1;\n",
       "        }    #T_7c68bf56_34c1_11ea_8f1e_a683e7938601row2_col3 {\n",
       "            background-color:  #f6bea4;\n",
       "            color:  #000000;\n",
       "        }    #T_7c68bf56_34c1_11ea_8f1e_a683e7938601row2_col4 {\n",
       "            background-color:  #bcd2f7;\n",
       "            color:  #000000;\n",
       "        }    #T_7c68bf56_34c1_11ea_8f1e_a683e7938601row3_col0 {\n",
       "            background-color:  #aec9fc;\n",
       "            color:  #000000;\n",
       "        }    #T_7c68bf56_34c1_11ea_8f1e_a683e7938601row3_col1 {\n",
       "            background-color:  #f7b093;\n",
       "            color:  #000000;\n",
       "        }    #T_7c68bf56_34c1_11ea_8f1e_a683e7938601row3_col2 {\n",
       "            background-color:  #f7b093;\n",
       "            color:  #000000;\n",
       "        }    #T_7c68bf56_34c1_11ea_8f1e_a683e7938601row3_col3 {\n",
       "            background-color:  #b40426;\n",
       "            color:  #f1f1f1;\n",
       "        }    #T_7c68bf56_34c1_11ea_8f1e_a683e7938601row3_col4 {\n",
       "            background-color:  #779af7;\n",
       "            color:  #000000;\n",
       "        }    #T_7c68bf56_34c1_11ea_8f1e_a683e7938601row4_col0 {\n",
       "            background-color:  #3b4cc0;\n",
       "            color:  #f1f1f1;\n",
       "        }    #T_7c68bf56_34c1_11ea_8f1e_a683e7938601row4_col1 {\n",
       "            background-color:  #abc8fd;\n",
       "            color:  #000000;\n",
       "        }    #T_7c68bf56_34c1_11ea_8f1e_a683e7938601row4_col2 {\n",
       "            background-color:  #abc8fd;\n",
       "            color:  #000000;\n",
       "        }    #T_7c68bf56_34c1_11ea_8f1e_a683e7938601row4_col3 {\n",
       "            background-color:  #3b4cc0;\n",
       "            color:  #f1f1f1;\n",
       "        }    #T_7c68bf56_34c1_11ea_8f1e_a683e7938601row4_col4 {\n",
       "            background-color:  #b40426;\n",
       "            color:  #f1f1f1;\n",
       "        }</style><table id=\"T_7c68bf56_34c1_11ea_8f1e_a683e7938601\" ><thead>    <tr>        <th class=\"blank level0\" ></th>        <th class=\"col_heading level0 col0\" >Recency</th>        <th class=\"col_heading level0 col1\" >Frequency</th>        <th class=\"col_heading level0 col2\" >Amount</th>        <th class=\"col_heading level0 col3\" >Times</th>        <th class=\"col_heading level0 col4\" >Donation</th>    </tr></thead><tbody>\n",
       "                <tr>\n",
       "                        <th id=\"T_7c68bf56_34c1_11ea_8f1e_a683e7938601level0_row0\" class=\"row_heading level0 row0\" >Recency</th>\n",
       "                        <td id=\"T_7c68bf56_34c1_11ea_8f1e_a683e7938601row0_col0\" class=\"data row0 col0\" >1</td>\n",
       "                        <td id=\"T_7c68bf56_34c1_11ea_8f1e_a683e7938601row0_col1\" class=\"data row0 col1\" >-0.182745</td>\n",
       "                        <td id=\"T_7c68bf56_34c1_11ea_8f1e_a683e7938601row0_col2\" class=\"data row0 col2\" >-0.182745</td>\n",
       "                        <td id=\"T_7c68bf56_34c1_11ea_8f1e_a683e7938601row0_col3\" class=\"data row0 col3\" >0.160618</td>\n",
       "                        <td id=\"T_7c68bf56_34c1_11ea_8f1e_a683e7938601row0_col4\" class=\"data row0 col4\" >-0.279869</td>\n",
       "            </tr>\n",
       "            <tr>\n",
       "                        <th id=\"T_7c68bf56_34c1_11ea_8f1e_a683e7938601level0_row1\" class=\"row_heading level0 row1\" >Frequency</th>\n",
       "                        <td id=\"T_7c68bf56_34c1_11ea_8f1e_a683e7938601row1_col0\" class=\"data row1 col0\" >-0.182745</td>\n",
       "                        <td id=\"T_7c68bf56_34c1_11ea_8f1e_a683e7938601row1_col1\" class=\"data row1 col1\" >1</td>\n",
       "                        <td id=\"T_7c68bf56_34c1_11ea_8f1e_a683e7938601row1_col2\" class=\"data row1 col2\" >1</td>\n",
       "                        <td id=\"T_7c68bf56_34c1_11ea_8f1e_a683e7938601row1_col3\" class=\"data row1 col3\" >0.63494</td>\n",
       "                        <td id=\"T_7c68bf56_34c1_11ea_8f1e_a683e7938601row1_col4\" class=\"data row1 col4\" >0.218633</td>\n",
       "            </tr>\n",
       "            <tr>\n",
       "                        <th id=\"T_7c68bf56_34c1_11ea_8f1e_a683e7938601level0_row2\" class=\"row_heading level0 row2\" >Amount</th>\n",
       "                        <td id=\"T_7c68bf56_34c1_11ea_8f1e_a683e7938601row2_col0\" class=\"data row2 col0\" >-0.182745</td>\n",
       "                        <td id=\"T_7c68bf56_34c1_11ea_8f1e_a683e7938601row2_col1\" class=\"data row2 col1\" >1</td>\n",
       "                        <td id=\"T_7c68bf56_34c1_11ea_8f1e_a683e7938601row2_col2\" class=\"data row2 col2\" >1</td>\n",
       "                        <td id=\"T_7c68bf56_34c1_11ea_8f1e_a683e7938601row2_col3\" class=\"data row2 col3\" >0.63494</td>\n",
       "                        <td id=\"T_7c68bf56_34c1_11ea_8f1e_a683e7938601row2_col4\" class=\"data row2 col4\" >0.218633</td>\n",
       "            </tr>\n",
       "            <tr>\n",
       "                        <th id=\"T_7c68bf56_34c1_11ea_8f1e_a683e7938601level0_row3\" class=\"row_heading level0 row3\" >Times</th>\n",
       "                        <td id=\"T_7c68bf56_34c1_11ea_8f1e_a683e7938601row3_col0\" class=\"data row3 col0\" >0.160618</td>\n",
       "                        <td id=\"T_7c68bf56_34c1_11ea_8f1e_a683e7938601row3_col1\" class=\"data row3 col1\" >0.63494</td>\n",
       "                        <td id=\"T_7c68bf56_34c1_11ea_8f1e_a683e7938601row3_col2\" class=\"data row3 col2\" >0.63494</td>\n",
       "                        <td id=\"T_7c68bf56_34c1_11ea_8f1e_a683e7938601row3_col3\" class=\"data row3 col3\" >1</td>\n",
       "                        <td id=\"T_7c68bf56_34c1_11ea_8f1e_a683e7938601row3_col4\" class=\"data row3 col4\" >-0.0358544</td>\n",
       "            </tr>\n",
       "            <tr>\n",
       "                        <th id=\"T_7c68bf56_34c1_11ea_8f1e_a683e7938601level0_row4\" class=\"row_heading level0 row4\" >Donation</th>\n",
       "                        <td id=\"T_7c68bf56_34c1_11ea_8f1e_a683e7938601row4_col0\" class=\"data row4 col0\" >-0.279869</td>\n",
       "                        <td id=\"T_7c68bf56_34c1_11ea_8f1e_a683e7938601row4_col1\" class=\"data row4 col1\" >0.218633</td>\n",
       "                        <td id=\"T_7c68bf56_34c1_11ea_8f1e_a683e7938601row4_col2\" class=\"data row4 col2\" >0.218633</td>\n",
       "                        <td id=\"T_7c68bf56_34c1_11ea_8f1e_a683e7938601row4_col3\" class=\"data row4 col3\" >-0.0358544</td>\n",
       "                        <td id=\"T_7c68bf56_34c1_11ea_8f1e_a683e7938601row4_col4\" class=\"data row4 col4\" >1</td>\n",
       "            </tr>\n",
       "    </tbody></table>"
      ],
      "text/plain": [
       "<pandas.io.formats.style.Styler at 0x1247eb3d0>"
      ]
     },
     "execution_count": 16,
     "metadata": {},
     "output_type": "execute_result"
    },
    {
     "data": {
      "image/png": "[encoded data removed]",
      "text/plain": [
       "<Figure size 432x288 with 1 Axes>"
      ]
     },
     "metadata": {
      "needs_background": "light"
     },
     "output_type": "display_data"
    }
   ],
   "source": [
    "corr = data.corr()\n",
    "corr.plot()\n",
    "corr.style.background_gradient(cmap='coolwarm')"
   ]
  },
  {
   "cell_type": "code",
   "execution_count": 17,
   "metadata": {
    "pycharm": {
     "is_executing": false
    }
   },
   "outputs": [
    {
     "data": {
      "text/plain": [
       "<matplotlib.axes._subplots.AxesSubplot at 0x124814890>"
      ]
     },
     "execution_count": 17,
     "metadata": {},
     "output_type": "execute_result"
    },
    {
     "data": {
      "image/png": "[encoded data removed]",
      "text/plain": [
       "<Figure size 432x288 with 1 Axes>"
      ]
     },
     "metadata": {
      "needs_background": "light"
     },
     "output_type": "display_data"
    }
   ],
   "source": [
    "col_names = [\"Frequency\", \"Amount\", \"Times\", \"Donation\"]\n",
    "series_desc = data.describe()\n",
    "series_desc.plot.kde()"
   ]
  },
  {
   "cell_type": "code",
   "execution_count": 20,
   "metadata": {},
   "outputs": [
    {
     "data": {
      "text/html": [
       "<div>\n",
       "<style scoped>\n",
       "    .dataframe tbody tr th:only-of-type {\n",
       "        vertical-align: middle;\n",
       "    }\n",
       "\n",
       "    .dataframe tbody tr th {\n",
       "        vertical-align: top;\n",
       "    }\n",
       "\n",
       "    .dataframe thead th {\n",
       "        text-align: right;\n",
       "    }\n",
       "</style>\n",
       "<table border=\"1\" class=\"dataframe\">\n",
       "  <thead>\n",
       "    <tr style=\"text-align: right;\">\n",
       "      <th></th>\n",
       "      <th>foo</th>\n",
       "      <th>bar</th>\n",
       "    </tr>\n",
       "  </thead>\n",
       "  <tbody>\n",
       "    <tr>\n",
       "      <th>0</th>\n",
       "      <td>0.872487</td>\n",
       "      <td>0.146659</td>\n",
       "    </tr>\n",
       "    <tr>\n",
       "      <th>1</th>\n",
       "      <td>0.426867</td>\n",
       "      <td>0.052489</td>\n",
       "    </tr>\n",
       "    <tr>\n",
       "      <th>2</th>\n",
       "      <td>0.313698</td>\n",
       "      <td>0.872288</td>\n",
       "    </tr>\n",
       "  </tbody>\n",
       "</table>\n",
       "</div>"
      ],
      "text/plain": [
       "        foo       bar\n",
       "0  0.872487  0.146659\n",
       "1  0.426867  0.052489\n",
       "2  0.313698  0.872288"
      ]
     },
     "execution_count": 20,
     "metadata": {},
     "output_type": "execute_result"
    }
   ],
   "source": [
    "pd.DataFrame(np.random.rand(3, 2), columns=['foo', 'bar'], index=range(3))\n",
    "\n"
   ]
  }
 ],
 "metadata": {
  "kernelspec": {
   "display_name": "Python 3",
   "language": "python",
   "name": "python3"
  },
  "language_info": {
   "codemirror_mode": {
    "name": "ipython",
    "version": 3
   },
   "file_extension": ".py",
   "mimetype": "text/x-python",
   "name": "python",
   "nbconvert_exporter": "python",
   "pygments_lexer": "ipython3",
   "version": "3.7.6"
  },
  "pycharm": {
   "stem_cell": {
    "cell_type": "raw",
    "metadata": {
     "collapsed": false
    },
    "source": []
   }
  }
 },
 "nbformat": 4,
 "nbformat_minor": 1
}
