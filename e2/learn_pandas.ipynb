{
 "cells": [
  {
   "cell_type": "markdown",
   "metadata": {},
   "source": [
    "## From \"Python Data Science Handbook\""
   ]
  },
  {
   "cell_type": "code",
   "execution_count": 1,
   "metadata": {
    "pycharm": {
     "is_executing": false
    }
   },
   "outputs": [
    {
     "data": {
      "text/html": "        <script type=\"text/javascript\">\n        window.PlotlyConfig = {MathJaxConfig: 'local'};\n        if (window.MathJax) {MathJax.Hub.Config({SVG: {font: \"STIX-Web\"}});}\n        if (typeof require !== 'undefined') {\n        require.undef(\"plotly\");\n        requirejs.config({\n            paths: {\n                'plotly': ['https://cdn.plot.ly/plotly-latest.min']\n            }\n        });\n        require(['plotly'], function(Plotly) {\n            window._Plotly = Plotly;\n        });\n        }\n        </script>\n        "
     },
     "metadata": {},
     "output_type": "display_data"
    },
    {
     "name": "stdout",
     "text": [
      "3.7.6 (default, Dec 30 2019, 13:29:21) \n",
      "[Clang 11.0.0 (clang-1100.0.33.16)]\n",
      "['/Users/tswiton/dev/data_upskill/e2', '/Users/tswiton/dev/data_upskill', '/usr/local/Cellar/python/3.7.6/Frameworks/Python.framework/Versions/3.7/lib/python37.zip', '/usr/local/Cellar/python/3.7.6/Frameworks/Python.framework/Versions/3.7/lib/python3.7', '/usr/local/Cellar/python/3.7.6/Frameworks/Python.framework/Versions/3.7/lib/python3.7/lib-dynload', '', '/Users/tswiton/.virtualenvs/data_upskill/lib/python3.7/site-packages', '/Users/tswiton/.virtualenvs/data_upskill/lib/python3.7/site-packages/setuptools-40.8.0-py3.7.egg', '/Users/tswiton/.virtualenvs/data_upskill/lib/python3.7/site-packages/pip-19.0.3-py3.7.egg', '/Users/tswiton/.virtualenvs/data_upskill/lib/python3.7/site-packages/IPython/extensions', '/Users/tswiton/.ipython']\n"
     ],
     "output_type": "stream"
    }
   ],
   "source": [
    "# importing necesary libraries\n",
    "\n",
    " \n",
    "\n",
    "%matplotlib inline\n",
    "\n",
    "import pandas as pd\n",
    "\n",
    "import numpy as np\n",
    "\n",
    "import glob\n",
    "\n",
    "import os\n",
    "\n",
    "import datetime\n",
    "\n",
    "import statsmodels\n",
    "\n",
    "from matplotlib import pyplot as plt\n",
    "\n",
    "import seaborn as sns\n",
    "\n",
    "import sys\n",
    "\n",
    "import plotly.express as px\n",
    "\n",
    "import warnings\n",
    "\n",
    "import plotly\n",
    "\n",
    "from plotly.subplots import make_subplots\n",
    "\n",
    "import plotly.graph_objects as go\n",
    "\n",
    "warnings.filterwarnings(\"ignore\")\n",
    "\n",
    "plotly.offline.init_notebook_mode(connected=True)\n",
    "\n",
    " \n",
    "\n",
    "from IPython.display import display\n",
    "\n",
    "from IPython.core.interactiveshell import InteractiveShell\n",
    "\n",
    "InteractiveShell.ast_node_interactivity = \"all\"\n",
    "\n",
    " \n",
    "\n",
    "import sys\n",
    "\n",
    "print(sys.version)\n",
    "\n",
    "print(sys.path)\n"
   ]
  },
  {
   "cell_type": "code",
   "execution_count": 2,
   "metadata": {
    "pycharm": {
     "is_executing": false
    }
   },
   "outputs": [
    {
     "data": {
      "text/plain": "subject      Bob       Guido         Sue      \ntype          HR  Temp    HR  Temp    HR  Temp\nyear visit                                    \n2013 1      33.0  36.8  46.0  36.7  43.0  36.1\n     2      26.0  36.5  22.0  37.8  34.0  37.2\n2014 1      54.0  37.3  31.0  35.2  23.0  36.4\n     2      23.0  37.3  40.0  37.8  50.0  37.6",
      "text/html": "<div>\n<style scoped>\n    .dataframe tbody tr th:only-of-type {\n        vertical-align: middle;\n    }\n\n    .dataframe tbody tr th {\n        vertical-align: top;\n    }\n\n    .dataframe thead tr th {\n        text-align: left;\n    }\n\n    .dataframe thead tr:last-of-type th {\n        text-align: right;\n    }\n</style>\n<table border=\"1\" class=\"dataframe\">\n  <thead>\n    <tr>\n      <th></th>\n      <th>subject</th>\n      <th colspan=\"2\" halign=\"left\">Bob</th>\n      <th colspan=\"2\" halign=\"left\">Guido</th>\n      <th colspan=\"2\" halign=\"left\">Sue</th>\n    </tr>\n    <tr>\n      <th></th>\n      <th>type</th>\n      <th>HR</th>\n      <th>Temp</th>\n      <th>HR</th>\n      <th>Temp</th>\n      <th>HR</th>\n      <th>Temp</th>\n    </tr>\n    <tr>\n      <th>year</th>\n      <th>visit</th>\n      <th></th>\n      <th></th>\n      <th></th>\n      <th></th>\n      <th></th>\n      <th></th>\n    </tr>\n  </thead>\n  <tbody>\n    <tr>\n      <th rowspan=\"2\" valign=\"top\">2013</th>\n      <th>1</th>\n      <td>33.0</td>\n      <td>36.8</td>\n      <td>46.0</td>\n      <td>36.7</td>\n      <td>43.0</td>\n      <td>36.1</td>\n    </tr>\n    <tr>\n      <th>2</th>\n      <td>26.0</td>\n      <td>36.5</td>\n      <td>22.0</td>\n      <td>37.8</td>\n      <td>34.0</td>\n      <td>37.2</td>\n    </tr>\n    <tr>\n      <th rowspan=\"2\" valign=\"top\">2014</th>\n      <th>1</th>\n      <td>54.0</td>\n      <td>37.3</td>\n      <td>31.0</td>\n      <td>35.2</td>\n      <td>23.0</td>\n      <td>36.4</td>\n    </tr>\n    <tr>\n      <th>2</th>\n      <td>23.0</td>\n      <td>37.3</td>\n      <td>40.0</td>\n      <td>37.8</td>\n      <td>50.0</td>\n      <td>37.6</td>\n    </tr>\n  </tbody>\n</table>\n</div>"
     },
     "metadata": {},
     "output_type": "execute_result",
     "execution_count": 2
    }
   ],
   "source": [
    "index = pd.MultiIndex.from_product([[2013, 2014], [1, 2]],\n",
    "names=['year', 'visit'])\n",
    "columns = pd.MultiIndex.from_product([['Bob', 'Guido', 'Sue'], ['HR', 'Temp']], names=['subject', 'type'])\n",
    "# mock some data\n",
    "data = np.round(np.random.randn(4, 6), 1)\n",
    "data[:, ::2] *= 10\n",
    "data += 37\n",
    "# create the DataFrame\n",
    "health_data = pd.DataFrame(data, index=index, columns=columns)\n",
    "health_data"
   ]
  },
  {
   "cell_type": "code",
   "execution_count": 3,
   "metadata": {
    "pycharm": {
     "is_executing": false
    }
   },
   "outputs": [
    {
     "data": {
      "text/plain": "type          HR  Temp\nyear visit            \n2013 1      46.0  36.7\n     2      22.0  37.8\n2014 1      31.0  35.2\n     2      40.0  37.8",
      "text/html": "<div>\n<style scoped>\n    .dataframe tbody tr th:only-of-type {\n        vertical-align: middle;\n    }\n\n    .dataframe tbody tr th {\n        vertical-align: top;\n    }\n\n    .dataframe thead th {\n        text-align: right;\n    }\n</style>\n<table border=\"1\" class=\"dataframe\">\n  <thead>\n    <tr style=\"text-align: right;\">\n      <th></th>\n      <th>type</th>\n      <th>HR</th>\n      <th>Temp</th>\n    </tr>\n    <tr>\n      <th>year</th>\n      <th>visit</th>\n      <th></th>\n      <th></th>\n    </tr>\n  </thead>\n  <tbody>\n    <tr>\n      <th rowspan=\"2\" valign=\"top\">2013</th>\n      <th>1</th>\n      <td>46.0</td>\n      <td>36.7</td>\n    </tr>\n    <tr>\n      <th>2</th>\n      <td>22.0</td>\n      <td>37.8</td>\n    </tr>\n    <tr>\n      <th rowspan=\"2\" valign=\"top\">2014</th>\n      <th>1</th>\n      <td>31.0</td>\n      <td>35.2</td>\n    </tr>\n    <tr>\n      <th>2</th>\n      <td>40.0</td>\n      <td>37.8</td>\n    </tr>\n  </tbody>\n</table>\n</div>"
     },
     "metadata": {},
     "output_type": "execute_result",
     "execution_count": 3
    }
   ],
   "source": [
    "health_data['Guido']"
   ]
  },
  {
   "cell_type": "code",
   "execution_count": 4,
   "metadata": {
    "pycharm": {
     "is_executing": false
    }
   },
   "outputs": [
    {
     "data": {
      "text/plain": "California  2000    33871648\n            2010    37253956\nTexas       2000    20851820\n            2010    25145561\nNew York    2000    18976457\n            2010    19378102\ndtype: int64"
     },
     "metadata": {},
     "output_type": "execute_result",
     "execution_count": 4
    }
   ],
   "source": [
    "pop = {('California', 2000): 33871648,\n",
    "                    ('California', 2010): 37253956,\n",
    "                    ('Texas', 2000): 20851820,\n",
    "                    ('Texas', 2010): 25145561,\n",
    "                    ('New York', 2000): 18976457,\n",
    "                    ('New York', 2010): 19378102}\n",
    "pop = pd.Series(pop)\n",
    "pop"
   ]
  },
  {
   "cell_type": "code",
   "execution_count": 5,
   "metadata": {
    "pycharm": {
     "is_executing": false
    }
   },
   "outputs": [
    {
     "data": {
      "text/plain": "state       year\nCalifornia  2000    33871648\n            2010    37253956\nTexas       2000    20851820\n            2010    25145561\nNew York    2000    18976457\n            2010    19378102\ndtype: int64"
     },
     "metadata": {},
     "output_type": "execute_result",
     "execution_count": 5
    }
   ],
   "source": [
    "pop.index.names = ['state', 'year']\n",
    "pop"
   ]
  },
  {
   "cell_type": "code",
   "execution_count": 6,
   "metadata": {
    "pycharm": {
     "is_executing": false
    }
   },
   "outputs": [
    {
     "data": {
      "text/plain": "33871648"
     },
     "metadata": {},
     "output_type": "execute_result",
     "execution_count": 6
    },
    {
     "name": "stdout",
     "text": [
      "state       year\n",
      "California  2000    33871648\n",
      "            2010    37253956\n",
      "New York    2000    18976457\n",
      "            2010    19378102\n",
      "Texas       2000    20851820\n",
      "            2010    25145561\n",
      "dtype: int64\n",
      "state       year\n",
      "California  2000    33871648\n",
      "            2010    37253956\n",
      "New York    2000    18976457\n",
      "            2010    19378102\n",
      "dtype: int64\n",
      "        state  year  population\n",
      "0  California  2000    33871648\n",
      "1  California  2010    37253956\n",
      "2    New York  2000    18976457\n",
      "3    New York  2010    19378102\n",
      "4       Texas  2000    20851820\n",
      "5       Texas  2010    25145561\n",
      "                 population\n",
      "state      year            \n",
      "California 2000    33871648\n",
      "           2010    37253956\n",
      "New York   2000    18976457\n",
      "           2010    19378102\n",
      "Texas      2000    20851820\n",
      "           2010    25145561\n"
     ],
     "output_type": "stream"
    }
   ],
   "source": [
    "pop['California', 2000]\n",
    "pop = pop.sort_index()\n",
    "print(pop)\n",
    "print(pop['California':'New York'])\n",
    "flat_pop = pop.reset_index(name=\"population\")\n",
    "print(flat_pop)\n",
    "unflat_pop = flat_pop.set_index(['state', 'year'])\n",
    "print(unflat_pop)"
   ]
  },
  {
   "cell_type": "code",
   "execution_count": 7,
   "metadata": {
    "pycharm": {
     "is_executing": false
    }
   },
   "outputs": [
    {
     "data": {
      "text/plain": "subject      Bob       Guido         Sue      \ntype          HR  Temp    HR  Temp    HR  Temp\nyear visit                                    \n2013 1      33.0  36.8  46.0  36.7  43.0  36.1\n     2      26.0  36.5  22.0  37.8  34.0  37.2\n2014 1      54.0  37.3  31.0  35.2  23.0  36.4\n     2      23.0  37.3  40.0  37.8  50.0  37.6",
      "text/html": "<div>\n<style scoped>\n    .dataframe tbody tr th:only-of-type {\n        vertical-align: middle;\n    }\n\n    .dataframe tbody tr th {\n        vertical-align: top;\n    }\n\n    .dataframe thead tr th {\n        text-align: left;\n    }\n\n    .dataframe thead tr:last-of-type th {\n        text-align: right;\n    }\n</style>\n<table border=\"1\" class=\"dataframe\">\n  <thead>\n    <tr>\n      <th></th>\n      <th>subject</th>\n      <th colspan=\"2\" halign=\"left\">Bob</th>\n      <th colspan=\"2\" halign=\"left\">Guido</th>\n      <th colspan=\"2\" halign=\"left\">Sue</th>\n    </tr>\n    <tr>\n      <th></th>\n      <th>type</th>\n      <th>HR</th>\n      <th>Temp</th>\n      <th>HR</th>\n      <th>Temp</th>\n      <th>HR</th>\n      <th>Temp</th>\n    </tr>\n    <tr>\n      <th>year</th>\n      <th>visit</th>\n      <th></th>\n      <th></th>\n      <th></th>\n      <th></th>\n      <th></th>\n      <th></th>\n    </tr>\n  </thead>\n  <tbody>\n    <tr>\n      <th rowspan=\"2\" valign=\"top\">2013</th>\n      <th>1</th>\n      <td>33.0</td>\n      <td>36.8</td>\n      <td>46.0</td>\n      <td>36.7</td>\n      <td>43.0</td>\n      <td>36.1</td>\n    </tr>\n    <tr>\n      <th>2</th>\n      <td>26.0</td>\n      <td>36.5</td>\n      <td>22.0</td>\n      <td>37.8</td>\n      <td>34.0</td>\n      <td>37.2</td>\n    </tr>\n    <tr>\n      <th rowspan=\"2\" valign=\"top\">2014</th>\n      <th>1</th>\n      <td>54.0</td>\n      <td>37.3</td>\n      <td>31.0</td>\n      <td>35.2</td>\n      <td>23.0</td>\n      <td>36.4</td>\n    </tr>\n    <tr>\n      <th>2</th>\n      <td>23.0</td>\n      <td>37.3</td>\n      <td>40.0</td>\n      <td>37.8</td>\n      <td>50.0</td>\n      <td>37.6</td>\n    </tr>\n  </tbody>\n</table>\n</div>"
     },
     "metadata": {},
     "output_type": "execute_result",
     "execution_count": 7
    }
   ],
   "source": [
    "health_data"
   ]
  },
  {
   "cell_type": "code",
   "execution_count": 8,
   "metadata": {
    "pycharm": {
     "is_executing": false
    }
   },
   "outputs": [
    {
     "data": {
      "text/plain": "subject   Bob        Guido          Sue       \ntype       HR   Temp    HR   Temp    HR   Temp\nyear                                          \n2013     29.5  36.65  34.0  37.25  38.5  36.65\n2014     38.5  37.30  35.5  36.50  36.5  37.00",
      "text/html": "<div>\n<style scoped>\n    .dataframe tbody tr th:only-of-type {\n        vertical-align: middle;\n    }\n\n    .dataframe tbody tr th {\n        vertical-align: top;\n    }\n\n    .dataframe thead tr th {\n        text-align: left;\n    }\n\n    .dataframe thead tr:last-of-type th {\n        text-align: right;\n    }\n</style>\n<table border=\"1\" class=\"dataframe\">\n  <thead>\n    <tr>\n      <th>subject</th>\n      <th colspan=\"2\" halign=\"left\">Bob</th>\n      <th colspan=\"2\" halign=\"left\">Guido</th>\n      <th colspan=\"2\" halign=\"left\">Sue</th>\n    </tr>\n    <tr>\n      <th>type</th>\n      <th>HR</th>\n      <th>Temp</th>\n      <th>HR</th>\n      <th>Temp</th>\n      <th>HR</th>\n      <th>Temp</th>\n    </tr>\n    <tr>\n      <th>year</th>\n      <th></th>\n      <th></th>\n      <th></th>\n      <th></th>\n      <th></th>\n      <th></th>\n    </tr>\n  </thead>\n  <tbody>\n    <tr>\n      <th>2013</th>\n      <td>29.5</td>\n      <td>36.65</td>\n      <td>34.0</td>\n      <td>37.25</td>\n      <td>38.5</td>\n      <td>36.65</td>\n    </tr>\n    <tr>\n      <th>2014</th>\n      <td>38.5</td>\n      <td>37.30</td>\n      <td>35.5</td>\n      <td>36.50</td>\n      <td>36.5</td>\n      <td>37.00</td>\n    </tr>\n  </tbody>\n</table>\n</div>"
     },
     "metadata": {},
     "output_type": "execute_result",
     "execution_count": 8
    }
   ],
   "source": [
    "data_mean = health_data.mean(level='year')\n",
    "data_mean"
   ]
  },
  {
   "cell_type": "code",
   "execution_count": 9,
   "metadata": {
    "pycharm": {
     "is_executing": false
    }
   },
   "outputs": [
    {
     "data": {
      "text/plain": "subject     Bob   Guido     Sue\nyear                           \n2013     33.075  35.625  37.575\n2014     37.900  36.000  36.750",
      "text/html": "<div>\n<style scoped>\n    .dataframe tbody tr th:only-of-type {\n        vertical-align: middle;\n    }\n\n    .dataframe tbody tr th {\n        vertical-align: top;\n    }\n\n    .dataframe thead th {\n        text-align: right;\n    }\n</style>\n<table border=\"1\" class=\"dataframe\">\n  <thead>\n    <tr style=\"text-align: right;\">\n      <th>subject</th>\n      <th>Bob</th>\n      <th>Guido</th>\n      <th>Sue</th>\n    </tr>\n    <tr>\n      <th>year</th>\n      <th></th>\n      <th></th>\n      <th></th>\n    </tr>\n  </thead>\n  <tbody>\n    <tr>\n      <th>2013</th>\n      <td>33.075</td>\n      <td>35.625</td>\n      <td>37.575</td>\n    </tr>\n    <tr>\n      <th>2014</th>\n      <td>37.900</td>\n      <td>36.000</td>\n      <td>36.750</td>\n    </tr>\n  </tbody>\n</table>\n</div>"
     },
     "metadata": {},
     "output_type": "execute_result",
     "execution_count": 9
    }
   ],
   "source": [
    "data_mean.mean(axis=1, level='subject')"
   ]
  },
  {
   "cell_type": "code",
   "execution_count": 10,
   "metadata": {
    "pycharm": {
     "is_executing": false
    }
   },
   "outputs": [],
   "source": [
    "def make_df(cols, ind):\n",
    "    data = {c: [str(c) + str(i) for i in ind] for c in cols}\n",
    "    return pd.DataFrame(data, ind)"
   ]
  },
  {
   "cell_type": "code",
   "execution_count": 11,
   "metadata": {
    "pycharm": {
     "is_executing": false
    }
   },
   "outputs": [
    {
     "data": {
      "text/plain": "    A   B   C\n0  A0  B0  C0\n1  A1  B1  C1\n2  A2  B2  C2",
      "text/html": "<div>\n<style scoped>\n    .dataframe tbody tr th:only-of-type {\n        vertical-align: middle;\n    }\n\n    .dataframe tbody tr th {\n        vertical-align: top;\n    }\n\n    .dataframe thead th {\n        text-align: right;\n    }\n</style>\n<table border=\"1\" class=\"dataframe\">\n  <thead>\n    <tr style=\"text-align: right;\">\n      <th></th>\n      <th>A</th>\n      <th>B</th>\n      <th>C</th>\n    </tr>\n  </thead>\n  <tbody>\n    <tr>\n      <th>0</th>\n      <td>A0</td>\n      <td>B0</td>\n      <td>C0</td>\n    </tr>\n    <tr>\n      <th>1</th>\n      <td>A1</td>\n      <td>B1</td>\n      <td>C1</td>\n    </tr>\n    <tr>\n      <th>2</th>\n      <td>A2</td>\n      <td>B2</td>\n      <td>C2</td>\n    </tr>\n  </tbody>\n</table>\n</div>"
     },
     "metadata": {},
     "output_type": "execute_result",
     "execution_count": 11
    }
   ],
   "source": [
    "make_df('ABC', range(3))"
   ]
  },
  {
   "cell_type": "code",
   "execution_count": 12,
   "metadata": {
    "pycharm": {
     "is_executing": false
    }
   },
   "outputs": [
    {
     "name": "stdout",
     "text": [
      "    A   B\n",
      "0  A0  B0\n",
      "1  A1  B1\n",
      "    A   B\n",
      "2  A2  B2\n",
      "4  A4  B4\n",
      "     A    B    A    B\n",
      "0   A0   B0  NaN  NaN\n",
      "1   A1   B1  NaN  NaN\n",
      "2  NaN  NaN   A2   B2\n",
      "4  NaN  NaN   A4   B4\n"
     ],
     "output_type": "stream"
    }
   ],
   "source": [
    "df1 = make_df('AB', [0, 1])\n",
    "df2 = make_df('AB', [2, 4])\n",
    "print(df1); print(df2); print(pd.concat([df1, df2], axis=1))"
   ]
  }
 ],
 "metadata": {
  "kernelspec": {
   "display_name": "Python 3",
   "language": "python",
   "name": "python3"
  },
  "language_info": {
   "codemirror_mode": {
    "name": "ipython",
    "version": 3
   },
   "file_extension": ".py",
   "mimetype": "text/x-python",
   "name": "python",
   "nbconvert_exporter": "python",
   "pygments_lexer": "ipython3",
   "version": "3.7.6"
  }
 },
 "nbformat": 4,
 "nbformat_minor": 4
}